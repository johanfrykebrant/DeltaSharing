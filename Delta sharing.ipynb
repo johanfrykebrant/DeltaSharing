{
 "cells": [
  {
   "cell_type": "code",
   "execution_count": null,
   "metadata": {},
   "outputs": [],
   "source": [
    "import delta_sharing\n",
    "\n",
    "# Point to the profile file. It can be a file on the local file system or a file on a remote storage.\n",
    "profile_file = r\"<path>\\profiles\\profile.share\"\n",
    "\n",
    "# Create a SharingClient.\n",
    "client = delta_sharing.SharingClient(profile_file)\n",
    "\n",
    "# List all shared tables.\n",
    "for i in client.list_all_tables():\n",
    "    print(i)"
   ]
  },
  {
   "cell_type": "code",
   "execution_count": null,
   "metadata": {},
   "outputs": [],
   "source": [
    "# Create a url to access a shared table.\n",
    "# A table path is the profile file path followed by `#` and the fully qualified name of a table \n",
    "# (`<share-name>.<schema-name>.<table-name>`).\n",
    "limited_table_url = profile_file + \"<share-name>.<schema-name>.<table-name>\"\n",
    "\n",
    "df = delta_sharing.load_as_pandas(limited_table_url)"
   ]
  }
 ],
 "metadata": {
  "language_info": {
   "name": "python"
  },
  "orig_nbformat": 4
 },
 "nbformat": 4,
 "nbformat_minor": 2
}
